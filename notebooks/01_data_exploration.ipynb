{
 "cells": [
  {
   "metadata": {},
   "cell_type": "markdown",
   "source": "# Data Exploration - Setup - Splitting",
   "id": "13da2bd866d417a7"
  },
  {
   "metadata": {},
   "cell_type": "markdown",
   "source": "## Imports",
   "id": "7a5ba57964c4f818"
  },
  {
   "metadata": {
    "ExecuteTime": {
     "end_time": "2025-08-05T03:09:16.263583Z",
     "start_time": "2025-08-05T03:09:16.258280Z"
    }
   },
   "cell_type": "code",
   "source": [
    "# Data Handling\n",
    "import pandas as pd\n",
    "import numpy as np\n",
    "import random\n",
    "\n",
    "# Paths\n",
    "from src.__00__paths import raw_data_dir, processed_image_dir, train_dir, test_dir\n",
    "import shutil\n",
    "from pathlib import Path\n",
    "from PIL import Image\n",
    "\n",
    "# Datasets Source\n",
    "import kagglehub"
   ],
   "id": "dc74cb0c3fd3112c",
   "outputs": [],
   "execution_count": 2
  },
  {
   "metadata": {},
   "cell_type": "markdown",
   "source": "## Download GTZAN Dataset - Music Genre Classification",
   "id": "6bfb1af7c5443da9"
  },
  {
   "metadata": {
    "ExecuteTime": {
     "end_time": "2025-08-05T03:09:20.227999Z",
     "start_time": "2025-08-05T03:09:16.967120Z"
    }
   },
   "cell_type": "code",
   "source": [
    "# List of files to check\n",
    "data_items = [\n",
    "    raw_data_dir / \"features_3_sec.csv\",\n",
    "    raw_data_dir / \"features_30_sec.csv\",\n",
    "    raw_data_dir / \"genres_original\",\n",
    "    raw_data_dir / \"images_original\",\n",
    "]\n",
    "\n",
    "# Check and download\n",
    "if all(item.exists() for item in data_items):\n",
    "    print(\"Dataset is already downloaded.\")\n",
    "else:\n",
    "    print(\"Downloading data...\")\n",
    "\n",
    "    # Download dataset\n",
    "    dataset_path = Path(kagglehub.dataset_download(\"andradaolteanu/gtzan-dataset-music-genre-classification\"))\n",
    "\n",
    "    if not dataset_path.exists():\n",
    "        raise FileNotFoundError(\"Dataset not found.\")\n",
    "\n",
    "    # Copy files to raw_data_dir\n",
    "    for item in dataset_path.iterdir():\n",
    "        target = raw_data_dir / item.name\n",
    "        if item.is_file():\n",
    "            shutil.copy2(item, target)\n",
    "        elif item.is_dir():\n",
    "            shutil.copytree(item, target, dirs_exist_ok=True)\n",
    "\n",
    "    print(\"Dataset successfully downloaded.\")"
   ],
   "id": "24a567b22abc5ba",
   "outputs": [
    {
     "name": "stdout",
     "output_type": "stream",
     "text": [
      "Downloading data...\n",
      "Dataset successfully downloaded.\n"
     ]
    }
   ],
   "execution_count": 3
  },
  {
   "metadata": {},
   "cell_type": "markdown",
   "source": "## Resize Image",
   "id": "9c83fdb0828173f1"
  },
  {
   "metadata": {
    "ExecuteTime": {
     "end_time": "2025-08-05T03:11:13.293705Z",
     "start_time": "2025-08-05T03:11:10.991533Z"
    }
   },
   "cell_type": "code",
   "source": [
    "IMG_SIZE = (128, 128)\n",
    "\n",
    "for genre_dir in (raw_data_dir / \"images_original\").iterdir():\n",
    "    if genre_dir.is_dir():\n",
    "        out_dir = processed_image_dir / genre_dir.name\n",
    "        out_dir.mkdir(exist_ok=True)\n",
    "        for img_file in genre_dir.glob(\"*.png\"):\n",
    "            img = Image.open(img_file).resize(IMG_SIZE)\n",
    "            img.save(out_dir / img_file.name)"
   ],
   "id": "420c1ed84f9b7e60",
   "outputs": [],
   "execution_count": 4
  },
  {
   "metadata": {},
   "cell_type": "markdown",
   "source": "## Split Data",
   "id": "460cd53afc7b9514"
  },
  {
   "metadata": {
    "ExecuteTime": {
     "end_time": "2025-08-05T03:11:19.620932Z",
     "start_time": "2025-08-05T03:11:19.451709Z"
    }
   },
   "cell_type": "code",
   "source": [
    "for genre_dir in processed_image_dir.iterdir():\n",
    "    if genre_dir.is_dir():\n",
    "        images = list(genre_dir.glob(\"*.png\"))\n",
    "        random.shuffle(images)\n",
    "\n",
    "        split_idx = int(0.8 * len(images))\n",
    "        train_images = images[:split_idx]\n",
    "        test_images = images[split_idx:]\n",
    "\n",
    "        # Create output dirs\n",
    "        (train_dir / genre_dir.name).mkdir(parents=True, exist_ok=True)\n",
    "        (test_dir / genre_dir.name).mkdir(parents=True, exist_ok=True)\n",
    "\n",
    "        # Copy files\n",
    "        for img in train_images:\n",
    "            shutil.copy(img, train_dir / genre_dir.name / img.name)\n",
    "        for img in test_images:\n",
    "            shutil.copy(img, test_dir / genre_dir.name / img.name)\n",
    "\n",
    "print(\"Train/Test split complete in curated_data_dir\")"
   ],
   "id": "1dc040259162fdb4",
   "outputs": [
    {
     "name": "stdout",
     "output_type": "stream",
     "text": [
      "Train/Test split complete in curated_data_dir\n"
     ]
    }
   ],
   "execution_count": 5
  }
 ],
 "metadata": {
  "kernelspec": {
   "display_name": "Python 3",
   "language": "python",
   "name": "python3"
  },
  "language_info": {
   "codemirror_mode": {
    "name": "ipython",
    "version": 2
   },
   "file_extension": ".py",
   "mimetype": "text/x-python",
   "name": "python",
   "nbconvert_exporter": "python",
   "pygments_lexer": "ipython2",
   "version": "2.7.6"
  }
 },
 "nbformat": 4,
 "nbformat_minor": 5
}
